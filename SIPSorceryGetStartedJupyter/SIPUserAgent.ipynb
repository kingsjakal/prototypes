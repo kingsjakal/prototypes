{
  "cells": [
    {
      "cell_type": "code",
      "source": [
        "Console.WriteLine(\"Hello World\");"
      ],
      "outputs": [
        {
          "output_type": "stream",
          "name": "stdout",
          "text": [
            "Hello World\r\n"
          ]
        }
      ],
      "execution_count": 1,
      "metadata": {
        "name": "helloWorld"
      }
    },
    {
      "cell_type": "code",
      "source": [
        "#r \"nuget:SIPSorcery, 4.0.28-pre\"\n",
        "#r \"nuget:SIPSorceryMedia, 4.0.28-pre\"\n",
        "\n",
        "using System.Net.Sockets;\n",
        "using SIPSorcery.SIP;\n",
        "using SIPSorcery.SIP.App;\n",
        "using SIPSorcery.Media;\n",
        "using SIPSorcery.Net;\n",
        "\n",
        "string DESTINATION = \"time@sipsorcery.com\";\n",
        "\n",
        "var sipTransport = new SIPTransport();\n",
        "var userAgent = new SIPUserAgent(sipTransport, null);\n",
        "var rtpSession = new RtpAVSession(AddressFamily.InterNetwork, new AudioOptions { AudioSource = AudioSourcesEnum.Microphone }, null);\n",
        "\n",
        "bool callResult = await userAgent.Call(DESTINATION, null, null, rtpSession);"
      ],
      "outputs": [
        {
          "output_type": "display_data",
          "data": {
            "text/html": [
              "Installing package SIPSorcery, version 4.0.28-pre.done!"
            ]
          },
          "metadata": {}
        },
        {
          "output_type": "display_data",
          "data": {
            "text/html": [
              "Successfully added reference to package SIPSorcery, version 4.0.28-pre"
            ]
          },
          "metadata": {}
        },
        {
          "output_type": "display_data",
          "data": {
            "text/html": [
              "Installing package SIPSorceryMedia, version 4.0.28-pre.done!"
            ]
          },
          "metadata": {}
        },
        {
          "output_type": "display_data",
          "data": {
            "text/html": [
              "Successfully added reference to package SIPSorceryMedia, version 4.0.28-pre"
            ]
          },
          "metadata": {}
        },
        {
          "output_type": "error",
          "ename": "Unhandled Exception",
          "evalue": "The type initializer for '<Module>' threw an exception.",
          "traceback": [
            "Unhandled Exception",
            "The type initializer for '<Module>' threw an exception.",
            "   at SIPSorcery.Media.RtpAVSession..ctor(AddressFamily addrFamily, AudioOptions audioOptions, VideoOptions videoOptions)",
            "   at Submission#6.<<Initialize>>d__0.MoveNext()",
            "--- End of stack trace from previous location where exception was thrown ---",
            "   at Microsoft.CodeAnalysis.Scripting.ScriptExecutionState.RunSubmissionsAsync[TResult](ImmutableArray`1 precedingExecutors, Func`2 currentExecutor, StrongBox`1 exceptionHolderOpt, Func`2 catchExceptionOpt, CancellationToken cancellationToken)"
          ]
        }
      ],
      "execution_count": 5,
      "metadata": {}
    },
    {
      "cell_type": "code",
      "source": [],
      "outputs": [],
      "execution_count": null,
      "metadata": {}
    }
  ],
  "metadata": {
    "kernelspec": {
      "display_name": ".NET (C#)",
      "language": "C#",
      "name": ".net-csharp"
    },
    "language_info": {
      "name": "C#",
      "version": "8.0",
      "mimetype": "text/x-csharp",
      "file_extension": ".cs",
      "pygments_lexer": "csharp"
    },
    "nteract": {
      "version": "0.21.0"
    }
  },
  "nbformat": 4,
  "nbformat_minor": 4
}